{
 "cells": [
  {
   "cell_type": "markdown",
   "metadata": {},
   "source": [
    "# Introduction to Linear Regression\n",
    "\n",
    "||continuous|categorical|\n",
    "|---|---|---|\n",
    "|**supervised**|**regression**|classification|\n",
    "|**unsupervised**|dimension reduction|clustering|\n",
    "\n",
    "## Motivation\n",
    "\n",
    "linear regression 학습 이유?\n",
    "- 널리 사용됨\n",
    "- 빠른 연산 속도\n",
    "- 사용하기 쉬움(일반적으로 튜닝 과정 불필요)\n",
    "- 재사용성 높음\n",
    "- 다른 방법들의 이론적 토대\n",
    "\n",
    "## 사용 라이브러리\n",
    "\n",
    "-   [Statsmodels](http://statsmodels.sourceforge.net/)\n",
    "-   [scikit-learn](http://scikit-learn.org/stable/)"
   ]
  },
  {
   "cell_type": "code",
   "execution_count": null,
   "metadata": {
    "collapsed": true
   },
   "outputs": [],
   "source": [
    "# 노트북에서 그래프가 출력되도록 함\n",
    "%matplotlib inline\n",
    "\n",
    "# 라이브러리 import\n",
    "import pandas as pd\n",
    "import matplotlib.pyplot as plt"
   ]
  },
  {
   "cell_type": "markdown",
   "metadata": {},
   "source": [
    "## 실습: 광고 데이터\n",
    "\n",
    "- 광고데이터에 linear regression을 적용해보기"
   ]
  },
  {
   "cell_type": "code",
   "execution_count": null,
   "metadata": {},
   "outputs": [],
   "source": [
    "# 데이터 불러오기\n",
    "data = pd.read_csv('http://www-bcf.usc.edu/~gareth/ISL/Advertising.csv', index_col=0)\n",
    "data.head()"
   ]
  },
  {
   "cell_type": "markdown",
   "metadata": {},
   "source": [
    "**features**?\n",
    "- TV: TV 광고 지출 금액 (in thousands of dollars)\n",
    "- Radio: 라디오 광고 지출 금액\n",
    "- Newspaper: 신문 광고 지출 금액\n",
    "\n",
    "**response**?\n",
    "- Sales: 판매량 (in thousands of widgets)"
   ]
  },
  {
   "cell_type": "code",
   "execution_count": null,
   "metadata": {},
   "outputs": [],
   "source": [
    "# 차원 확인\n",
    "data.shape"
   ]
  },
  {
   "cell_type": "markdown",
   "metadata": {},
   "source": [
    "There are 200 **observations**, and thus 200 markets in the dataset."
   ]
  },
  {
   "cell_type": "code",
   "execution_count": null,
   "metadata": {},
   "outputs": [],
   "source": [
    "# feature간의 상관관계 시각화\n",
    "fig, axs = plt.subplots(1, 3, sharey=True)\n",
    "data.plot(kind='scatter', x='TV', y='Sales', ax=axs[0], figsize=(16, 8))\n",
    "data.plot(kind='scatter', x='Radio', y='Sales', ax=axs[1])\n",
    "data.plot(kind='scatter', x='Newspaper', y='Sales', ax=axs[2])"
   ]
  },
  {
   "cell_type": "markdown",
   "metadata": {},
   "source": [
    "## 질문\n",
    "\n",
    "위 데이터를 기반으로, 앞으로 광고 예산을 어떻게 사용해야 하는가?\n",
    "\n",
    "위 질문은 아래의 세부 질문으로 나눠질 수 있다:\n",
    "1. 광고와 판매량 사이 상관관계가 있는가?\n",
    "2. 상관관계는 얼마나 강한가?\n",
    "3. 어떤 광고가 판매량에 영향을 미치는가?\n",
    "4. 각 광고들은 어떤 영향을 미치는가?\n",
    "5. 예상 광고비 지출액이 주어진다면, 판매량을 예측할 수 있는가?\n"
   ]
  },
  {
   "cell_type": "markdown",
   "metadata": {},
   "source": [
    "## Simple Linear Regression\n",
    "\n",
    "$y = \\beta_0 + \\beta_1x$\n",
    "\n",
    "각 기호의 의미?\n",
    "- $y$ is the response\n",
    "- $x$ is the feature\n",
    "- $\\beta_0$ is the intercept\n",
    "- $\\beta_1$ is the coefficient for x\n",
    "\n",
    "$x$와 $y$가 주어지면, $\\beta_0$ 와 $\\beta_1$ 를 학습한다. $\\beta_0$ 와 $\\beta_1$ 를 학습하면 특정 $x$에 대해 $y$를 예측할 수 있습니다."
   ]
  },
  {
   "cell_type": "markdown",
   "metadata": {},
   "source": [
    "## Model Coefficients 학습\n",
    "\n",
    "일반적으로 계수는 ** 최소 제곱 기준 **을 사용하여 추정됩니다. 즉, ** 잔차 제곱의 합 ** (또는 \"제곱 오차 합계\")을 최소화하는 선 (수학적으로)을 찾습니다."
   ]
  },
  {
   "cell_type": "markdown",
   "metadata": {},
   "source": [
    "<img src=\"08_estimating_coefficients.png\">"
   ]
  },
  {
   "cell_type": "markdown",
   "metadata": {},
   "source": [
    "그림 각 요소들의 의미\n",
    "- 검은 점은 x와 y의 ** 관측 값 **입니다.\n",
    "- 파란색 선은 ** 최소 제곱 선 **입니다.\n",
    "- 빨간색 선은 ** 잔차(residuals) **이며 관측 값과 최소 자승선 사이의 거리입니다.\n",
    "\n",
    "모델 계수는 최소 자승선과 어떤 관련이 있습니까?\n",
    "- $\\beta_0$ is the **intercept** (the value of $y$ when $x$=0)\n",
    "- $\\beta_1$ 는 **기울기** 입니다 ($y$ 변화량을 $x$ 변화량으로 나눈 값)\n",
    "\n",
    "다음은 이러한 계산을 시각환 한 것입니다.\n",
    "\n",
    "\n",
    "- $\\beta_0$은 ** y절편 ** ($ x $ = 0 일 때 $ y $의 값)입니다.\n",
    "- $\\beta_1$는 ** 기울기 ** ($ y $의 변화를 $ x $의 변화로 나눈 값)입니다.\n",
    "\n",
    "다음은 이러한 계산을 그래픽으로 나타낸 것입니다."
   ]
  },
  {
   "cell_type": "markdown",
   "metadata": {},
   "source": [
    "<img src=\"08_slope_intercept.png\">"
   ]
  },
  {
   "cell_type": "markdown",
   "metadata": {},
   "source": [
    "**Statsmodels**을 이용하여 Linear regression을 해보겠습니다."
   ]
  },
  {
   "cell_type": "code",
   "execution_count": null,
   "metadata": {},
   "outputs": [],
   "source": [
    "import statsmodels.formula.api as smf\n",
    "\n",
    "# 모델 생성&피팅\n",
    "lm = smf.ols(formula='Sales ~ TV', data=data).fit()\n",
    "\n",
    "# 계수\n",
    "lm.params"
   ]
  },
  {
   "cell_type": "markdown",
   "metadata": {},
   "source": [
    "## 모델 계수 해석\n",
    "\n",
    "\n",
    "모델에서 TV의 계수 ($\\beta_1$)는 어떻게 해석해야 할까?\n",
    "- TV 광고금액의 1 단위 증가는 판매량이 0.047537 만큼 증가한 것과 **연관이 있습니다.**  \n",
    "- 또는 더 명확하게: TV 광고에 추가로 1,000 달러를 지출하면 ** 47.533 ** 단위의 판매량이 증가합니다.\n",
    "\n",
    "감소의 상관관계가 있다면,  $\\beta_1$ 는 **음수**가 되어야 합니다."
   ]
  },
  {
   "cell_type": "markdown",
   "metadata": {},
   "source": [
    "## 예측모델 사용\n",
    "\n",
    "만약 TV 광고에 **$50,000**을 사용했다면, 판매량은 얼마가 될까?\n",
    "\n",
    "$$y = \\beta_0 + \\beta_1x$$\n",
    "$$y = 7.032594 + 0.047537 \\times 50$$"
   ]
  },
  {
   "cell_type": "code",
   "execution_count": null,
   "metadata": {},
   "outputs": [],
   "source": [
    "# 수동으로 계산\n",
    "7.032594 + 0.047537*50"
   ]
  },
  {
   "cell_type": "markdown",
   "metadata": {},
   "source": [
    "**9,409 단위**의 판매량을 예측할 수 있습니다.\n",
    "\n",
    "위 방식 말고도, Statsmodels의 Predict 기능을 사용하면 편하게 예측값을 구할 수 있습니다:"
   ]
  },
  {
   "cell_type": "code",
   "execution_count": null,
   "metadata": {},
   "outputs": [],
   "source": [
    "# Statsmodels formula의 input은 DataFrame으로 해야 합니다.\n",
    "X_new = pd.DataFrame({'TV': [50]})\n",
    "X_new.head()"
   ]
  },
  {
   "cell_type": "code",
   "execution_count": null,
   "metadata": {},
   "outputs": [],
   "source": [
    "# 모델을 사용하여 예측\n",
    "lm.predict(X_new)"
   ]
  },
  {
   "cell_type": "markdown",
   "metadata": {},
   "source": [
    "## 최소 제곱 선 그리기\n",
    "\n",
    "** x 의 가장 작은 관측 값과 가장 큰 관측 값**에 대한 예측을 한 다음, 예측 된 값을 사용하여 최소 제곱 선을 그립니다."
   ]
  },
  {
   "cell_type": "code",
   "execution_count": null,
   "metadata": {},
   "outputs": [],
   "source": [
    "# TV광고 금액의 최소값과 최대값으로 DataFrame 생성\n",
    "X_new = pd.DataFrame({'TV': [data.TV.min(), data.TV.max()]})\n",
    "X_new.head()"
   ]
  },
  {
   "cell_type": "code",
   "execution_count": null,
   "metadata": {},
   "outputs": [],
   "source": [
    "# 모델을 사용하여 예측\n",
    "preds = lm.predict(X_new)\n",
    "preds"
   ]
  },
  {
   "cell_type": "code",
   "execution_count": null,
   "metadata": {},
   "outputs": [],
   "source": [
    "# 첫번째로, 관측된 데이터를 그리고\n",
    "data.plot(kind='scatter', x='TV', y='Sales')\n",
    "\n",
    "# 다음으로, 최소 제곱선을 그립니다\n",
    "plt.plot(X_new, preds, c='red', linewidth=2)"
   ]
  },
  {
   "cell_type": "markdown",
   "metadata": {},
   "source": [
    "## 가설 검정 및 p-values\n",
    "일반적으로 p-value가 0.05 이하일 경우 상관관계가 있다고 판단합니다.\n",
    "\n",
    "> Intercept에 대한 p-value는 무시합니다."
   ]
  },
  {
   "cell_type": "code",
   "execution_count": null,
   "metadata": {},
   "outputs": [],
   "source": [
    "lm.pvalues"
   ]
  },
  {
   "cell_type": "markdown",
   "metadata": {},
   "source": [
    "## 모델이 데이터를 얼마나 잘 맞추는지?: R-squared\n",
    "\n",
    "R-squared는 0과 1 사이의 값이며, 클수록 모델이 데이터를 잘 맞춘다고 설명됩니다. 다음은 R-squared가 \"어떻게 생겼는지\"의 예입니다."
   ]
  },
  {
   "cell_type": "markdown",
   "metadata": {},
   "source": [
    "<img src=\"08_r_squared.png\">"
   ]
  },
  {
   "cell_type": "markdown",
   "metadata": {},
   "source": [
    "**파란 선**: R-squared = 0.54\n",
    "\n",
    "**녹색 선**: R-squared = 0.64\n",
    "\n",
    "**빨간 선**: R-squared = 0.66\n",
    "\n",
    "어떤 선이 데이터를 가장 잘 맞출수 있을까요?"
   ]
  },
  {
   "cell_type": "code",
   "execution_count": null,
   "metadata": {},
   "outputs": [],
   "source": [
    "# print the R-squared value for the model\n",
    "lm.rsquared"
   ]
  },
  {
   "cell_type": "markdown",
   "metadata": {},
   "source": [
    "이 R-squared 값은 충분히 좋은 값인가요? 쉽게 판단할순 없ㅅ브니다. 각 도메인별로 받아들여지는 R-squared값은 크게 다릅니다. 따라서 R-squared는 그 자체로서의 값보단 여러 ** 다른 모델을 비교하기위한 도구 **로 가장 유용합니다."
   ]
  },
  {
   "cell_type": "markdown",
   "metadata": {},
   "source": [
    "## Multiple Linear Regression\n",
    "\n",
    "Simple Linear Regression에서 변수가 많아지면 **multiple linear regression** 입니다:\n",
    "\n",
    "$y = \\beta_0 + \\beta_1x_1 + ... + \\beta_nx_n$\n",
    "\n",
    "각 $x$ 는 다른 feature를 나타내며, 각 feature마다 고유의 계수가 있습니다. 지금 다루는 데이터는 아래와 같이 나타낼 수 있습니다.\n",
    "\n",
    "$y = \\beta_0 + \\beta_1 \\times TV + \\beta_2 \\times Radio + \\beta_3 \\times Newspaper$"
   ]
  },
  {
   "cell_type": "code",
   "execution_count": null,
   "metadata": {},
   "outputs": [],
   "source": [
    "# 세개의 feature 모두 사용하여 모델 생성&피팅\n",
    "lm = smf.ols(formula='Sales ~ TV + Radio + Newspaper', data=data).fit()\n",
    "\n",
    "# 계수 출력\n",
    "lm.params"
   ]
  },
  {
   "cell_type": "markdown",
   "metadata": {},
   "source": [
    "양의 상관관계: TV, Radio\n",
    "음의 상관관계: Newspaper"
   ]
  },
  {
   "cell_type": "code",
   "execution_count": null,
   "metadata": {},
   "outputs": [],
   "source": [
    "# 모델 요약 정보 출력\n",
    "lm.summary()"
   ]
  },
  {
   "cell_type": "markdown",
   "metadata": {},
   "source": [
    "이 결과로부터 우리가 배울 수 있는 것.\n",
    "\n",
    "- TV와 라디오는 의미있는 **P-value**를 보여주지만 신문은 그렇지 않습니다.\n",
    "- TV와 라디오 광고 지출 모두 **판매량과 양의 상관관계가 있으며** 신문 광고 지출은 **판매량과 약간의 음의 상관관계가 있습니다**.(그러나 신문에 대한 P-value가 의미있는 값이 아니기에 무의미한 상관관계입니다.)\n",
    "- 이번에 한 Multiple linear regression이 이전에 한 Simple linear regression보다 **R-squared**(0.897)가 높습니다. 즉, 이 이 모델은 TV 광고 지출만 고려한 모델보다 더 데이터를 잘 예측합니다."
   ]
  },
  {
   "cell_type": "markdown",
   "metadata": {},
   "source": [
    "## Linear Regression in scikit-learn\n",
    "\n",
    "Statsmodels이 아닌 scikit-learn사용:"
   ]
  },
  {
   "cell_type": "code",
   "execution_count": null,
   "metadata": {},
   "outputs": [],
   "source": [
    "# X,y 설정\n",
    "feature_cols = ['TV', 'Radio', 'Newspaper']\n",
    "X = data[feature_cols]\n",
    "y = data.Sales\n",
    "\n",
    "# 모델 생성&피팅. sklearn에서는 아래와 같은 형태가 일반적\n",
    "from sklearn.linear_model import LinearRegression\n",
    "lm = LinearRegression()\n",
    "lm.fit(X, y)\n",
    "\n",
    "# y절편과 계수 출력\n",
    "print(lm.intercept_)\n",
    "print(lm.coef_)"
   ]
  },
  {
   "cell_type": "code",
   "execution_count": null,
   "metadata": {},
   "outputs": [],
   "source": [
    "# features와 각각의 계수  출력\n",
    "print(feature_cols, lm.coef_)"
   ]
  },
  {
   "cell_type": "code",
   "execution_count": null,
   "metadata": {},
   "outputs": [],
   "source": [
    "# 새로운 데이터를 넣고 예측\n",
    "lm.predict([100, 25, 25])"
   ]
  },
  {
   "cell_type": "code",
   "execution_count": null,
   "metadata": {},
   "outputs": [],
   "source": [
    "# R-squared 계산\n",
    "lm.score(X, y)"
   ]
  }
 ],
 "metadata": {
  "kernelspec": {
   "display_name": "Python 3",
   "language": "python",
   "name": "python3"
  },
  "language_info": {
   "codemirror_mode": {
    "name": "ipython",
    "version": 3
   },
   "file_extension": ".py",
   "mimetype": "text/x-python",
   "name": "python",
   "nbconvert_exporter": "python",
   "pygments_lexer": "ipython3",
   "version": "3.6.0"
  }
 },
 "nbformat": 4,
 "nbformat_minor": 1
}
